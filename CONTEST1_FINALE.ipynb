{
  "nbformat": 4,
  "nbformat_minor": 0,
  "metadata": {
    "colab": {
      "provenance": []
    },
    "kernelspec": {
      "name": "python3",
      "display_name": "Python 3"
    },
    "language_info": {
      "name": "python"
    }
  },
  "cells": [
    {
      "cell_type": "markdown",
      "source": [
        "# Contest 1"
      ],
      "metadata": {
        "id": "yG_bdPpeCUlq"
      }
    },
    {
      "cell_type": "markdown",
      "source": [
        "Importing drive"
      ],
      "metadata": {
        "id": "Ns0jzLatCQmm"
      }
    },
    {
      "cell_type": "code",
      "source": [
        "from google.colab import drive\n",
        "drive.mount('/content/drive')"
      ],
      "metadata": {
        "colab": {
          "base_uri": "https://localhost:8080/"
        },
        "id": "iVvfmn6oCqXY",
        "outputId": "8bd3dbd7-0796-4fe1-ddbc-f75c93e4f842"
      },
      "execution_count": null,
      "outputs": [
        {
          "output_type": "stream",
          "name": "stdout",
          "text": [
            "Mounted at /content/drive\n"
          ]
        }
      ]
    },
    {
      "cell_type": "markdown",
      "source": [
        "# OVERVIEW"
      ],
      "metadata": {
        "id": "5kaB8-6vGD7j"
      }
    },
    {
      "cell_type": "markdown",
      "source": [
        "the first thing i have to do is importing my dataset named train from the folder \"CONTEST 1\". The problem is to classify a set of instances of the file \"test\" with a minimum accouracy of 0,636. \n",
        "This dataset talk about the analysis that are made to check if a patient has a prostate cancer. So we have a series of features and a target feature \"Cancer\" that represent the results of this analysis."
      ],
      "metadata": {
        "id": "XeRoqJlEEF_y"
      }
    },
    {
      "cell_type": "code",
      "source": [
        "import pandas as pd\n",
        "import numpy as np\n",
        "from matplotlib import pyplot as plt\n",
        "from sklearn.tree import DecisionTreeClassifier # Import Decision Tree Classifier\n",
        "from sklearn.model_selection import train_test_split # Import train_test_split function\n",
        "from sklearn import metrics\n",
        "from sklearn.metrics import accuracy_score\n",
        "from sklearn.neighbors import KNeighborsClassifier\n",
        "from sklearn import svm\n",
        "from sklearn.preprocessing import StandardScaler\n",
        "from sklearn.preprocessing import MinMaxScaler\n",
        "from sklearn.model_selection import train_test_split, cross_val_score, GridSearchCV, StratifiedKFold, RepeatedStratifiedKFold\n",
        "from sklearn.metrics import accuracy_score, make_scorer, confusion_matrix\n",
        "\n",
        "data = pd.read_csv('drive/MyDrive/Colab Notebooks/CONTEST 1/Train.csv')"
      ],
      "metadata": {
        "id": "13GWPI7iEFHI"
      },
      "execution_count": null,
      "outputs": []
    },
    {
      "cell_type": "markdown",
      "source": [
        "so now we can see the number of positive and negative in this way"
      ],
      "metadata": {
        "id": "UE-E_zHOHebN"
      }
    },
    {
      "cell_type": "code",
      "source": [
        "index = data.index\n",
        "number_of_rows = len(index)\n",
        "print(number_of_rows)\n",
        "\n",
        "positivi = data.loc[data['CANCER'] == 1]\n",
        "negativi = data.loc[data['CANCER'] == 0]\n",
        "index_n = negativi.index\n",
        "index_p = positivi.index\n",
        "number_positive = len(index_p)\n",
        "number_negative = len(index_n)\n",
        "print(number_positive)\n",
        "print(number_negative)"
      ],
      "metadata": {
        "colab": {
          "base_uri": "https://localhost:8080/"
        },
        "id": "LxBrC2j7HnBu",
        "outputId": "f906eef3-39bc-4f2e-b2e2-e7e92647951c"
      },
      "execution_count": null,
      "outputs": [
        {
          "output_type": "stream",
          "name": "stdout",
          "text": [
            "65\n",
            "42\n",
            "23\n"
          ]
        }
      ]
    },
    {
      "cell_type": "markdown",
      "source": [
        "# DATA PREPARATION"
      ],
      "metadata": {
        "id": "mkg2prXUJs4S"
      }
    },
    {
      "cell_type": "markdown",
      "source": [
        "so we can see that we have a total of 65 rows. these rows have 42 positive patients and 23 negative patients. now i have to see graphically(with histograms) the values and occurrences of the features "
      ],
      "metadata": {
        "id": "7k9AKA7zH3nA"
      }
    },
    {
      "cell_type": "code",
      "source": [
        "data.hist(column=['PESO_KG','ALTEZZA_M'], figsize=(10,4), grid=False)\n",
        "data.hist(column=['base_med','base_sx'], figsize=(10,4), grid=False)\n",
        "data.hist(column=['base_dx','equ_sx'], figsize=(10,4), grid=False)\n",
        "data.hist(column=['equ_med','equ_dx'], figsize=(10,4), grid=False)\n",
        "data.hist(column=['ap_sx','ap_med'], figsize=(10,4), grid=False)\n",
        "data.hist(column=['ap_dx','tran_sx'], figsize=(10,4), grid=False)\n",
        "data.hist(column=['tran_med','tran_dx'], figsize=(10,4), grid=False)\n",
        "data.hist(column=['BMI','TOT_ZONE'], figsize=(10,4), grid=False)\n",
        "data.hist(column=['VOLUME_PROSTATICO','PSA'], figsize=(10,4), grid=False)\n",
        "data.hist(column=['psa_density','FREE_PSA'], figsize=(10,4), grid=False)\n",
        "data.hist(column=['RATIO','Glicemia'], figsize=(10,4), grid=False)\n",
        "data.hist(column=['Colesterolo','HDL'], figsize=(10,4), grid=False)\n",
        "data.hist(column=['LDL','Trigliceridi'], figsize=(10,4), grid=False)\n",
        "data.hist(column=['Creatinina','train_nd'], figsize=(10,4), grid=False)"
      ],
      "metadata": {
        "colab": {
          "base_uri": "https://localhost:8080/",
          "height": 1000
        },
        "id": "SFZiF0g8IWkM",
        "outputId": "bf2b9a37-d65d-46aa-e211-17abf980c73b"
      },
      "execution_count": null,
      "outputs": [
        {
          "output_type": "execute_result",
          "data": {
            "text/plain": [
              "array([[<matplotlib.axes._subplots.AxesSubplot object at 0x7f907ab473d0>,\n",
              "        <matplotlib.axes._subplots.AxesSubplot object at 0x7f907aafc9d0>]],\n",
              "      dtype=object)"
            ]
          },
          "metadata": {},
          "execution_count": 101
        },
        {
          "output_type": "display_data",
          "data": {
            "image/png": "[encoded data removed]",
            "text/plain": [
              "<Figure size 720x288 with 2 Axes>"
            ]
          },
          "metadata": {
            "needs_background": "light"
          }
        },
        {
          "output_type": "display_data",
          "data": {
            "image/png": "[encoded data removed]",
            "text/plain": [
              "<Figure size 720x288 with 2 Axes>"
            ]
          },
          "metadata": {
            "needs_background": "light"
          }
        },
        {
          "output_type": "display_data",
          "data": {
            "image/png": "[encoded data removed]",
            "text/plain": [
              "<Figure size 720x288 with 2 Axes>"
            ]
          },
          "metadata": {
            "needs_background": "light"
          }
        },
        {
          "output_type": "display_data",
          "data": {
            "image/png": "[encoded data removed]",
            "text/plain": [
              "<Figure size 720x288 with 2 Axes>"
            ]
          },
          "metadata": {
            "needs_background": "light"
          }
        },
        {
          "output_type": "display_data",
          "data": {
            "image/png": "[encoded data removed]",
            "text/plain": [
              "<Figure size 720x288 with 2 Axes>"
            ]
          },
          "metadata": {
            "needs_background": "light"
          }
        },
        {
          "output_type": "display_data",
          "data": {
            "image/png": "[encoded data removed]",
            "text/plain": [
              "<Figure size 720x288 with 2 Axes>"
            ]
          },
          "metadata": {
            "needs_background": "light"
          }
        },
        {
          "output_type": "display_data",
          "data": {
            "image/png": "[encoded data removed]",
            "text/plain": [
              "<Figure size 720x288 with 2 Axes>"
            ]
          },
          "metadata": {
            "needs_background": "light"
          }
        },
        {
          "output_type": "display_data",
          "data": {
            "image/png": "[encoded data removed]",
            "text/plain": [
              "<Figure size 720x288 with 2 Axes>"
            ]
          },
          "metadata": {
            "needs_background": "light"
          }
        },
        {
          "output_type": "display_data",
          "data": {
            "image/png": "[encoded data removed]",
            "text/plain": [
              "<Figure size 720x288 with 2 Axes>"
            ]
          },
          "metadata": {
            "needs_background": "light"
          }
        },
        {
          "output_type": "display_data",
          "data": {
            "image/png": "[encoded data removed]",
            "text/plain": [
              "<Figure size 720x288 with 2 Axes>"
            ]
          },
          "metadata": {
            "needs_background": "light"
          }
        },
        {
          "output_type": "display_data",
          "data": {
            "image/png": "[encoded data removed]",
            "text/plain": [
              "<Figure size 720x288 with 2 Axes>"
            ]
          },
          "metadata": {
            "needs_background": "light"
          }
        },
        {
          "output_type": "display_data",
          "data": {
            "image/png": "[encoded data removed]",
            "text/plain": [
              "<Figure size 720x288 with 2 Axes>"
            ]
          },
          "metadata": {
            "needs_background": "light"
          }
        },
        {
          "output_type": "display_data",
          "data": {
            "image/png": "[encoded data removed]",
            "text/plain": [
              "<Figure size 720x288 with 2 Axes>"
            ]
          },
          "metadata": {
            "needs_background": "light"
          }
        },
        {
          "output_type": "display_data",
          "data": {
            "image/png": "[encoded data removed]",
            "text/plain": [
              "<Figure size 720x288 with 2 Axes>"
            ]
          },
          "metadata": {
            "needs_background": "light"
          }
        }
      ]
    },
    {
      "cell_type": "markdown",
      "source": [
        "**Missing values**"
      ],
      "metadata": {
        "id": "8GvhXWkBTtBH"
      }
    },
    {
      "cell_type": "markdown",
      "source": [
        "after this we want to control the missing values "
      ],
      "metadata": {
        "id": "OpnJM7BPJlnp"
      }
    },
    {
      "cell_type": "code",
      "source": [
        "for col in data.columns:\n",
        "    pct_missing = np.mean(data[col].isnull())\n",
        "    print('{} - {}%'.format(col, round(pct_missing*100)))"
      ],
      "metadata": {
        "colab": {
          "base_uri": "https://localhost:8080/"
        },
        "id": "uUrOvh_MJf4g",
        "outputId": "35a7ddbb-8aa1-4f46-d895-fd62b9d42999"
      },
      "execution_count": null,
      "outputs": [
        {
          "output_type": "stream",
          "name": "stdout",
          "text": [
            "row ID - 0%\n",
            "PESO_KG - 0%\n",
            "ALTEZZA_M - 0%\n",
            "BMI - 0%\n",
            "base_sx - 3%\n",
            "base_med - 3%\n",
            "base_dx - 3%\n",
            "equ_sx - 3%\n",
            "equ_med - 3%\n",
            "equ_dx - 3%\n",
            "ap_sx - 3%\n",
            "ap_med - 3%\n",
            "ap_dx - 3%\n",
            "tran_sx - 3%\n",
            "tran_med - 3%\n",
            "tran_dx - 3%\n",
            "train_nd - 3%\n",
            "TOT_ZONE - 3%\n",
            "VOLUME_PROSTATICO - 2%\n",
            "PSA - 0%\n",
            "psa_density - 2%\n",
            "FREE_PSA - 9%\n",
            "RATIO - 9%\n",
            "Glicemia - 0%\n",
            "Colesterolo - 0%\n",
            "HDL - 0%\n",
            "LDL - 0%\n",
            "Trigliceridi - 0%\n",
            "Creatinina - 0%\n",
            "CANCER - 0%\n"
          ]
        }
      ]
    },
    {
      "cell_type": "markdown",
      "source": [
        "from the train we can see that there are rows with missing values in every \"position\" features (base_med,base_sx,base_dx etc.). so the first thing that we do is to drop this rows from the dataset because these features are boolean and the number of rows with these missing values is only the 3%. another reason is that in this 3% of rows we have an amount of 70% of missing values for each one."
      ],
      "metadata": {
        "id": "-DCXA1TMCTMU"
      }
    },
    {
      "cell_type": "code",
      "source": [
        "data = data.dropna(subset=['base_med'])"
      ],
      "metadata": {
        "id": "U0JXTgExMFWG"
      },
      "execution_count": null,
      "outputs": []
    },
    {
      "cell_type": "markdown",
      "source": [
        "now we can check the missing values another time"
      ],
      "metadata": {
        "id": "E0fcs_oyMOXh"
      }
    },
    {
      "cell_type": "code",
      "source": [
        "for col in data.columns:\n",
        "    pct_missing = np.mean(data[col].isnull())\n",
        "    print('{} - {}%'.format(col, round(pct_missing*100)))"
      ],
      "metadata": {
        "colab": {
          "base_uri": "https://localhost:8080/"
        },
        "id": "SdfK3_OqMNuJ",
        "outputId": "11b64d1f-97f0-4464-efce-817d538e54c5"
      },
      "execution_count": null,
      "outputs": [
        {
          "output_type": "stream",
          "name": "stdout",
          "text": [
            "row ID - 0%\n",
            "PESO_KG - 0%\n",
            "ALTEZZA_M - 0%\n",
            "BMI - 0%\n",
            "base_sx - 0%\n",
            "base_med - 0%\n",
            "base_dx - 0%\n",
            "equ_sx - 0%\n",
            "equ_med - 0%\n",
            "equ_dx - 0%\n",
            "ap_sx - 0%\n",
            "ap_med - 0%\n",
            "ap_dx - 0%\n",
            "tran_sx - 0%\n",
            "tran_med - 0%\n",
            "tran_dx - 0%\n",
            "train_nd - 0%\n",
            "TOT_ZONE - 0%\n",
            "VOLUME_PROSTATICO - 0%\n",
            "PSA - 0%\n",
            "psa_density - 0%\n",
            "FREE_PSA - 10%\n",
            "RATIO - 10%\n",
            "Glicemia - 0%\n",
            "Colesterolo - 0%\n",
            "HDL - 0%\n",
            "LDL - 0%\n",
            "Trigliceridi - 0%\n",
            "Creatinina - 0%\n",
            "CANCER - 0%\n"
          ]
        }
      ]
    },
    {
      "cell_type": "markdown",
      "source": [
        "in this case we can see that we have increased the percentage of missing values for the features of \"FREE_PSA\" and \"RATIO\". it's normal because with this drop, we have less number of rows. so we fill the missing values with the means(beacause we have the 10% of missing values, and for me is too big to drop)"
      ],
      "metadata": {
        "id": "5j1ioE3FNKkN"
      }
    },
    {
      "cell_type": "code",
      "source": [
        "media_freepsa = data['FREE_PSA'].mean()\n",
        "media_ratio = data['RATIO'].mean()\n",
        "data['FREE_PSA'] = data['FREE_PSA'].fillna(media_freepsa)\n",
        "data['RATIO'] = data['RATIO'].fillna(media_ratio)"
      ],
      "metadata": {
        "id": "ivNIwL0sNKLS"
      },
      "execution_count": null,
      "outputs": []
    },
    {
      "cell_type": "markdown",
      "source": [
        "now we control the last time the missing values to control if we have some errors"
      ],
      "metadata": {
        "id": "cXDPmkEXRcoz"
      }
    },
    {
      "cell_type": "code",
      "source": [
        "for col in data.columns:\n",
        "    pct_missing = np.mean(data[col].isnull())\n",
        "    print('{} - {}%'.format(col, round(pct_missing*100)))"
      ],
      "metadata": {
        "colab": {
          "base_uri": "https://localhost:8080/"
        },
        "id": "GUDi4JwWRoU5",
        "outputId": "cb3a7196-0668-4589-ed2b-58ff83ea127f"
      },
      "execution_count": null,
      "outputs": [
        {
          "output_type": "stream",
          "name": "stdout",
          "text": [
            "row ID - 0%\n",
            "PESO_KG - 0%\n",
            "ALTEZZA_M - 0%\n",
            "BMI - 0%\n",
            "base_sx - 0%\n",
            "base_med - 0%\n",
            "base_dx - 0%\n",
            "equ_sx - 0%\n",
            "equ_med - 0%\n",
            "equ_dx - 0%\n",
            "ap_sx - 0%\n",
            "ap_med - 0%\n",
            "ap_dx - 0%\n",
            "tran_sx - 0%\n",
            "tran_med - 0%\n",
            "tran_dx - 0%\n",
            "train_nd - 0%\n",
            "TOT_ZONE - 0%\n",
            "VOLUME_PROSTATICO - 0%\n",
            "PSA - 0%\n",
            "psa_density - 0%\n",
            "FREE_PSA - 0%\n",
            "RATIO - 0%\n",
            "Glicemia - 0%\n",
            "Colesterolo - 0%\n",
            "HDL - 0%\n",
            "LDL - 0%\n",
            "Trigliceridi - 0%\n",
            "Creatinina - 0%\n",
            "CANCER - 0%\n"
          ]
        }
      ]
    },
    {
      "cell_type": "markdown",
      "source": [
        "**OUTLIERS**"
      ],
      "metadata": {
        "id": "uTwh6xQGUBtY"
      }
    },
    {
      "cell_type": "markdown",
      "source": [
        "now if we control the histogram of Creatinina we can see that there are abnormal values like 8,9 etc.(an human can't has these valuese). so we rescale these values dividing by 10. before this we check values with a box plot "
      ],
      "metadata": {
        "id": "bGukg1FPR5m7"
      }
    },
    {
      "cell_type": "code",
      "source": [
        "data.boxplot(column=['Creatinina'])"
      ],
      "metadata": {
        "colab": {
          "base_uri": "https://localhost:8080/",
          "height": 283
        },
        "id": "vtrBCYM8R5JV",
        "outputId": "a9cad859-03ee-4bd2-be17-5330e03f67f3"
      },
      "execution_count": null,
      "outputs": [
        {
          "output_type": "execute_result",
          "data": {
            "text/plain": [
              "<matplotlib.axes._subplots.AxesSubplot at 0x7fb370a1a250>"
            ]
          },
          "metadata": {},
          "execution_count": 9
        },
        {
          "output_type": "display_data",
          "data": {
            "image/png": "[encoded data removed]",
            "text/plain": [
              "<Figure size 432x288 with 1 Axes>"
            ]
          },
          "metadata": {
            "needs_background": "light"
          }
        }
      ]
    },
    {
      "cell_type": "code",
      "source": [
        "data.loc[data.Creatinina > 2 , 'Creatinina'] = data.Creatinina/10"
      ],
      "metadata": {
        "id": "bUYKBCpSTCL5"
      },
      "execution_count": null,
      "outputs": []
    },
    {
      "cell_type": "markdown",
      "source": [
        "now we check another time to be sure."
      ],
      "metadata": {
        "id": "Ntwkfm7bTKaw"
      }
    },
    {
      "cell_type": "code",
      "source": [
        "data.boxplot(column=['Creatinina'])"
      ],
      "metadata": {
        "colab": {
          "base_uri": "https://localhost:8080/",
          "height": 283
        },
        "id": "i4GOOLeNTKCR",
        "outputId": "d2ab7542-2c26-42ac-8e22-98a807761180"
      },
      "execution_count": null,
      "outputs": [
        {
          "output_type": "execute_result",
          "data": {
            "text/plain": [
              "<matplotlib.axes._subplots.AxesSubplot at 0x7f0484ea85d0>"
            ]
          },
          "metadata": {},
          "execution_count": 12
        },
        {
          "output_type": "display_data",
          "data": {
            "image/png": "[encoded data removed]",
            "text/plain": [
              "<Figure size 432x288 with 1 Axes>"
            ]
          },
          "metadata": {
            "needs_background": "light"
          }
        }
      ]
    },
    {
      "cell_type": "markdown",
      "source": [
        "**MODEL AND FEATURE SELECTION**"
      ],
      "metadata": {
        "id": "OAXeL_xOTZg2"
      }
    },
    {
      "cell_type": "markdown",
      "source": [
        "for the first time to select feature we want to see the correlation between the class feature and the other features"
      ],
      "metadata": {
        "id": "FKutL2_BeSsg"
      }
    },
    {
      "cell_type": "code",
      "source": [
        "import seaborn as sns\n",
        "\n",
        "x = data.drop('CANCER',1)\n",
        "y = data['CANCER']\n",
        "data.head()\n",
        "plt.figure(figsize=(16,14))\n",
        "cor = data.corr()\n",
        "\n",
        "cor_target = abs(cor[\"CANCER\"])\n",
        "relevant_features = cor_target[cor_target<0.5]\n",
        "print(relevant_features)"
      ],
      "metadata": {
        "colab": {
          "base_uri": "https://localhost:8080/",
          "height": 537
        },
        "id": "HntBEoD_ejKp",
        "outputId": "f2eceb22-7118-4c22-835f-b3b126ab4cb1"
      },
      "execution_count": null,
      "outputs": [
        {
          "output_type": "stream",
          "name": "stdout",
          "text": [
            "row ID               0.069447\n",
            "PESO_KG              0.070070\n",
            "ALTEZZA_M            0.063639\n",
            "BMI                  0.017349\n",
            "base_sx              0.153436\n",
            "base_med             0.148906\n",
            "base_dx              0.052646\n",
            "equ_sx               0.189338\n",
            "equ_med              0.218908\n",
            "equ_dx               0.215913\n",
            "ap_sx                0.277046\n",
            "ap_med               0.218908\n",
            "ap_dx                0.046282\n",
            "tran_sx              0.057276\n",
            "tran_dx              0.054185\n",
            "train_nd             0.355455\n",
            "TOT_ZONE             0.394894\n",
            "VOLUME_PROSTATICO    0.146927\n",
            "PSA                  0.059613\n",
            "psa_density          0.075194\n",
            "FREE_PSA             0.253895\n",
            "RATIO                0.334577\n",
            "Glicemia             0.184927\n",
            "Colesterolo          0.003962\n",
            "HDL                  0.031283\n",
            "LDL                  0.075742\n",
            "Trigliceridi         0.001234\n",
            "Creatinina           0.014531\n",
            "Name: CANCER, dtype: float64\n"
          ]
        },
        {
          "output_type": "display_data",
          "data": {
            "text/plain": [
              "<Figure size 1152x1008 with 0 Axes>"
            ]
          },
          "metadata": {}
        }
      ]
    },
    {
      "cell_type": "markdown",
      "source": [
        "the feature that we can drop is 'Row ID', because it can bring our model in overfitting. Also we can drop features like \"PESO_KG\",\"ALTEZZA_M\",\"BMI\" that aren't functional for the detection of a Cancer. We can drop psa_density and PSA because FREE_PSA and RATIO are linear combination of these ones.\n",
        "So we can choose the following ones:\n",
        "***'base_sx','base_med','equ_sx','equ_med','equ_dx','ap_sx','ap_med','train_nd','TOT_ZONE','VOLUME_PROSTATICO','FREE_PSA','RATIO','Glicemia','Trigliceridi'***"
      ],
      "metadata": {
        "id": "a02quECWfs7c"
      }
    },
    {
      "cell_type": "code",
      "source": [
        "feature_cols=['base_sx','base_med','equ_sx','equ_med','equ_dx','ap_sx','ap_med','train_nd','TOT_ZONE','VOLUME_PROSTATICO','FREE_PSA','RATIO','Glicemia','Trigliceridi']"
      ],
      "metadata": {
        "id": "ikZvOHO-kEiY"
      },
      "execution_count": null,
      "outputs": []
    },
    {
      "cell_type": "markdown",
      "source": [
        "**Model Selection**"
      ],
      "metadata": {
        "id": "lTN8I3UGOtL1"
      }
    },
    {
      "cell_type": "markdown",
      "source": [
        "now we want to select the best model for the features. we use an inner and outer kfold cross validation to select hyperparameter and train the models beacuse we has not so much data. for this we made 2 split for the inner cycle to select hyperparameters and 3 splits for the outer cycle of training. so in this case i have enough data to calculate hyperparameters and train my model. we use a stratified k fold to mantain the occurences' frequency of the classes.And we repeated this cycle for 4 times. we use function StandardScaler to normalize data using gaussian normalization"
      ],
      "metadata": {
        "id": "uBKndEvuIw-m"
      }
    },
    {
      "cell_type": "code",
      "source": [
        "X = data[feature_cols].values\n",
        "y = data.CANCER.values\n",
        "\n",
        "outer_cv = RepeatedStratifiedKFold(n_splits=3, n_repeats=4, random_state=42)\n",
        "inner_cv = StratifiedKFold(n_splits=2, shuffle=True, random_state=42)\n",
        "\n",
        "tree = DecisionTreeClassifier()\n",
        "\n",
        "parameters = {'criterion':['gini', 'entropy'], 'max_depth':[2, 4, 6, 8, 10, 12, 14, 16, 18, 20], 'min_samples_leaf':[2, 4, 6, 8, 10, 12, 14, 16, 18, 20], 'class_weight':[None, 'balanced']}\n",
        "\n",
        "clf = GridSearchCV(estimator=tree, param_grid=parameters, scoring=make_scorer(accuracy_score), cv=inner_cv)\n",
        "clf.fit(X, y)\n",
        "inner_best_scores = clf.best_score_\n",
        "inner_best_param = clf.best_params_\n",
        "\n",
        "nested_score = cross_val_score(clf, X=X, y=y, scoring=make_scorer(accuracy_score), cv=outer_cv)\n",
        "\n",
        "# print(nested_score)\n",
        "print('Decision Tree accuracy:', nested_score.mean())"
      ],
      "metadata": {
        "colab": {
          "base_uri": "https://localhost:8080/"
        },
        "id": "XVx3J4MKIwSW",
        "outputId": "05f5e7d4-6b2d-42e2-e291-682953dbd295"
      },
      "execution_count": null,
      "outputs": [
        {
          "output_type": "stream",
          "name": "stdout",
          "text": [
            "Decision Tree accuracy: 0.6984126984126985\n"
          ]
        }
      ]
    },
    {
      "cell_type": "code",
      "source": [
        "X = data[feature_cols].values\n",
        "y = data.CANCER.values\n",
        "\n",
        "scaler = StandardScaler().fit(X)\n",
        "X = scaler.transform(X)\n",
        "\n",
        "outer_cv = RepeatedStratifiedKFold(n_splits=3, n_repeats=4, random_state=42)\n",
        "inner_cv = StratifiedKFold(n_splits=2, shuffle=True, random_state=42)\n",
        "\n",
        "knn = KNeighborsClassifier()\n",
        "\n",
        "parameters = {'n_neighbors': [1, 2, 3, 4, 5, 6, 7, 8, 9, 10], 'weights':['uniform', 'distance']}\n",
        "\n",
        "clf = GridSearchCV(estimator=knn, param_grid=parameters, scoring=make_scorer(accuracy_score), cv=inner_cv)\n",
        "clf.fit(X, y)\n",
        "inner_best_scores = clf.best_score_\n",
        "inner_best_param = clf.best_params_\n",
        "\n",
        "nested_score = cross_val_score(clf, X=X, y=y, scoring=make_scorer(accuracy_score), cv=outer_cv)\n",
        "\n",
        "# print(nested_score)\n",
        "print('KNN accuracy:', nested_score.mean())"
      ],
      "metadata": {
        "colab": {
          "base_uri": "https://localhost:8080/"
        },
        "id": "VE_x4dhtPIRA",
        "outputId": "4d7ee875-bbdb-474c-e47f-977fa1843641"
      },
      "execution_count": null,
      "outputs": [
        {
          "output_type": "stream",
          "name": "stdout",
          "text": [
            "KNN accuracy: 0.6507936507936508\n"
          ]
        }
      ]
    },
    {
      "cell_type": "code",
      "source": [
        "X = data[feature_cols].values\n",
        "y = data.CANCER.values\n",
        "scaler = StandardScaler().fit(X)\n",
        "X = scaler.transform(X)\n",
        "outer_cv = RepeatedStratifiedKFold(n_splits=3, n_repeats=4, random_state=42)\n",
        "inner_cv = StratifiedKFold(n_splits=2, shuffle=True, random_state=42)\n",
        "svm2 = svm.SVC()\n",
        "parameters = {'C':[0.2, 0.4, 0.6, 0.8, 1, 2, 4, 6, 8], 'kernel':['linear', 'rbf', 'poly'], 'class_weight':['balanced', None]}\n",
        "clf = GridSearchCV(estimator=svm2, param_grid=parameters, scoring=make_scorer(accuracy_score), cv=inner_cv)\n",
        "clf.fit(X, y)\n",
        "inner_best_scores = clf.best_score_\n",
        "best_estimator = clf.best_estimator_\n",
        "nested_score = cross_val_score(clf, X=X, y=y, scoring=make_scorer(accuracy_score), cv=outer_cv)\n",
        "print('SVM accuracy:', nested_score.mean())"
      ],
      "metadata": {
        "colab": {
          "base_uri": "https://localhost:8080/"
        },
        "id": "80lf0Ls1Plxd",
        "outputId": "e4c4ec00-9bd4-412d-ce4d-2e6e96728123"
      },
      "execution_count": null,
      "outputs": [
        {
          "output_type": "stream",
          "name": "stdout",
          "text": [
            "SVM accuracy: 0.7023809523809524\n"
          ]
        }
      ]
    },
    {
      "cell_type": "markdown",
      "source": [
        "from these results we can choose the svm model. so we use a Backward elimination - scheme dependent approach to drop features and increase the accourancy. \n",
        "The result is the following set:\n",
        "**\"TOT_ZONE\",\"FREE_PSA\",\"Glicemia\",\"train_nd\",\"ap_med\",\"Trigliceridi\",\"tran_med\"**"
      ],
      "metadata": {
        "id": "75RgFq6NQmya"
      }
    },
    {
      "cell_type": "code",
      "source": [
        "feature_cols = [\"TOT_ZONE\",\"FREE_PSA\",\"Glicemia\",\"train_nd\",\"ap_med\",\"Trigliceridi\",\"tran_med\"]\n",
        "X = data[feature_cols].values\n",
        "y = data.CANCER.values\n",
        "scaler = MinMaxScaler().fit(X)\n",
        "X = scaler.transform(X)\n",
        "outer_cv = RepeatedStratifiedKFold(n_splits=3, n_repeats=4, random_state=42)\n",
        "inner_cv = StratifiedKFold(n_splits=2, shuffle=True, random_state=42)\n",
        "svm2 = svm.SVC()\n",
        "parameters = {'C':[0.2, 0.4, 0.6, 0.8, 1, 2, 4, 6, 8], 'kernel':['linear', 'rbf', 'poly'], 'class_weight':['balanced', None]}\n",
        "clf = GridSearchCV(estimator=svm2, param_grid=parameters, scoring=make_scorer(accuracy_score), cv=inner_cv)\n",
        "clf.fit(X, y)\n",
        "inner_best_scores = clf.best_score_\n",
        "best_estimator = clf.best_estimator_\n",
        "nested_score = cross_val_score(clf, X=X, y=y, scoring=make_scorer(accuracy_score), cv=outer_cv)\n",
        "print('SVM accuracy:', nested_score.mean())"
      ],
      "metadata": {
        "colab": {
          "base_uri": "https://localhost:8080/"
        },
        "id": "daxYP5WoPear",
        "outputId": "2cdbf608-edb5-4967-a3a6-4ed4884aaec3"
      },
      "execution_count": null,
      "outputs": [
        {
          "output_type": "stream",
          "name": "stdout",
          "text": [
            "SVM accuracy: 0.7778846153846153\n"
          ]
        }
      ]
    },
    {
      "cell_type": "markdown",
      "source": [
        "we have passed the threshold of Caronte so we can pass on the test replacing missing values with the mean of training set and rescaling the values of \"Creatinina\""
      ],
      "metadata": {
        "id": "LebpeQYrSjC8"
      }
    },
    {
      "cell_type": "code",
      "source": [
        "data_test = pd.read_csv('drive/MyDrive/Colab Notebooks/CONTEST 1/Test.csv')\n",
        "data_test.loc[data_test.Creatinina > 2 , 'Creatinina'] = data_test.Creatinina/10\n",
        "data_test['FREE_PSA'] = data_test['FREE_PSA'].fillna(media_freepsa)\n",
        "data_test['RATIO'] = data_test['RATIO'].fillna(media_ratio)\n",
        "\n",
        "X_trainsvm = data[feature_cols]\n",
        "y_trainsvm = data.CANCER\n",
        "X_testsvm = data_test[feature_cols].values\n",
        "scaler = StandardScaler().fit(X_trainsvm)\n",
        "X_trainsvm = scaler.transform(X_trainsvm)\n",
        "X_testsvm = scaler.transform(X_testsvm)\n",
        "best_estimator.fit(X_trainsvm, y_trainsvm)\n",
        "y_testsvm = best_estimator.predict(X_testsvm)\n",
        "data_test['CANCER'] = y_testsvm\n",
        "print(y_testsvm)"
      ],
      "metadata": {
        "colab": {
          "base_uri": "https://localhost:8080/"
        },
        "id": "cC3ZAOMaSiju",
        "outputId": "cf121e96-8104-41fb-8dbd-db853a446f18"
      },
      "execution_count": null,
      "outputs": [
        {
          "output_type": "stream",
          "name": "stdout",
          "text": [
            "[0 1 1 1 1 1 1 1 1 1 1 0 0 0 0 1 1 1 1 1 1 1 1 1 1 1 1 1 1 1 1 1 1 1 1 1 1\n",
            " 0 1 0 1 1 0 0]\n"
          ]
        },
        {
          "output_type": "stream",
          "name": "stderr",
          "text": [
            "/usr/local/lib/python3.7/dist-packages/sklearn/base.py:451: UserWarning: X does not have valid feature names, but StandardScaler was fitted with feature names\n",
            "  \"X does not have valid feature names, but\"\n"
          ]
        }
      ]
    },
    {
      "cell_type": "markdown",
      "source": [
        "on the private class we have an accourancy of 0.757"
      ],
      "metadata": {
        "id": "DMKhki75UBMw"
      }
    },
    {
      "cell_type": "markdown",
      "source": [],
      "metadata": {
        "id": "mHvrrjl_HTwh"
      }
    }
  ]
}
